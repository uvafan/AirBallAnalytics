{
 "cells": [
  {
   "cell_type": "code",
   "execution_count": 2,
   "metadata": {
    "collapsed": true
   },
   "outputs": [],
   "source": [
    "from urllib.request import urlopen\n",
    "from bs4 import BeautifulSoup\n",
    "import pandas as pd"
   ]
  },
  {
   "cell_type": "code",
   "execution_count": 16,
   "metadata": {
    "collapsed": false
   },
   "outputs": [],
   "source": [
    "#get html\n",
    "url = 'http://www.nba.com/news/all-time-draft-lottery-probabilities'\n",
    "html = urlopen(url)\n",
    "soup = BeautifulSoup(html, 'lxml')"
   ]
  },
  {
   "cell_type": "code",
   "execution_count": 31,
   "metadata": {
    "collapsed": false
   },
   "outputs": [
    {
     "name": "stdout",
     "output_type": "stream",
     "text": [
      " (Atlanta, Golden State, Indiana, L.A. Clippers, New York, Sacramento, Seattle) \n",
      " (Boston [from Seattle], Dallas [from Cleveland], Golden State, Indiana, New York, Philadelphia [from L.A.C.], Phoenix) \n",
      " (Cleveland, L.A. Clippers, New Jersey, New York, Phoenix, Sacramento, San Antonio) \n",
      " (Golden State, Indiana, L.A. Clippers, L.A. Clippers [from Sacramento], New Jersey, Philadelphia, Phoenix) \n"
     ]
    }
   ],
   "source": [
    "#initialize dicts\n",
    "expectedOnePicks = {}\n",
    "actualOnePicks = {}\n",
    "\n",
    "for h in soup.find_all('h3'):\n",
    "    year = 0\n",
    "    try:\n",
    "        year = int(h.getText())\n",
    "    except:\n",
    "        continue\n",
    "    if 1985 <= year and year <= 1988:\n",
    "        teams = h.find_next_sibling('p').find_next_sibling('p').getText()\n"
   ]
  },
  {
   "cell_type": "code",
   "execution_count": null,
   "metadata": {
    "collapsed": true
   },
   "outputs": [],
   "source": []
  }
 ],
 "metadata": {
  "kernelspec": {
   "display_name": "Python 3",
   "language": "python",
   "name": "python3"
  },
  "language_info": {
   "codemirror_mode": {
    "name": "ipython",
    "version": 3
   },
   "file_extension": ".py",
   "mimetype": "text/x-python",
   "name": "python",
   "nbconvert_exporter": "python",
   "pygments_lexer": "ipython3",
   "version": "3.6.0"
  }
 },
 "nbformat": 4,
 "nbformat_minor": 2
}
