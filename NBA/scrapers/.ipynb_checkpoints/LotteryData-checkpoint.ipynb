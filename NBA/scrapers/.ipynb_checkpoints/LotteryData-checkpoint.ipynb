{
 "cells": [
  {
   "cell_type": "code",
   "execution_count": 2,
   "metadata": {
    "collapsed": true
   },
   "outputs": [],
   "source": [
    "from urllib.request import urlopen\n",
    "from bs4 import BeautifulSoup\n",
    "import pandas as pd"
   ]
  },
  {
   "cell_type": "code",
   "execution_count": 16,
   "metadata": {
    "collapsed": false
   },
   "outputs": [],
   "source": [
    "#get html\n",
    "url = 'http://www.nba.com/news/all-time-draft-lottery-probabilities'\n",
    "html = urlopen(url)\n",
    "soup = BeautifulSoup(html, 'lxml')"
   ]
  },
  {
   "cell_type": "code",
   "execution_count": 74,
   "metadata": {
    "collapsed": false,
    "scrolled": true
   },
   "outputs": [
    {
     "name": "stdout",
     "output_type": "stream",
     "text": [
      "               Expected No.1s  Actual No.1s\n",
      "Atlanta              0.188312           0.0\n",
      "Golden State         0.549784           0.0\n",
      "Indiana              0.539683           0.0\n",
      "L.A. Clippers        0.803752           1.0\n",
      "New York             0.428571           1.0\n",
      "Sacramento           0.836219           1.0\n",
      "Seattle              0.173160           0.0\n",
      "Boston               0.142857           0.0\n",
      "Dallas               0.708514           0.0\n",
      "Philadelphia         0.437229           1.0\n",
      "Phoenix              0.428571           0.0\n",
      "Cleveland            0.158009           0.0\n",
      "New Jersey           0.573593           1.0\n",
      "San Antonio          0.253968           1.0\n",
      "Charlotte            0.398990           1.0\n",
      "Chicago              0.111111           0.0\n",
      "Miami                0.459596           0.0\n",
      "Washington           0.414141           0.0\n",
      "Orlando              0.333333           2.0\n",
      "Minnesota            0.500000           0.0\n",
      "Denver               0.348485           0.0\n",
      "Milwaukee            0.166667           0.0\n",
      "Houston              0.015152           0.0\n",
      "Detroit              0.030303           0.0\n"
     ]
    }
   ],
   "source": [
    "#initialize df\n",
    "df = pd.DataFrame(columns=['Expected No.1s', 'Actual No.1s'])\n",
    "\n",
    "import re\n",
    "\n",
    "#gather data\n",
    "for h in soup.find_all('h3'):\n",
    "    year = 0\n",
    "    try:\n",
    "        year = int(h.getText())\n",
    "    except:\n",
    "        continue\n",
    "    if 1984 < year and year < 1990:\n",
    "        teamList = h.find_next_sibling('p').find_next_sibling('p')\n",
    "        teams = teamList.getText().split(',')\n",
    "        for team in teams:\n",
    "            realName = re.sub(r'\\[.*\\]', '', team.replace('(','').replace(')','')).rstrip().lstrip()\n",
    "            if realName not in df.index:\n",
    "                df.loc[realName] = [0,0]\n",
    "            df.set_value(realName, 'Expected No.1s', df.at[realName, 'Expected No.1s'] + 1/len(teams))\n",
    "        winner = teamList.find_next_sibling('p').getText().split(':')[1].lstrip().rstrip()\n",
    "        df.set_value(winner, 'Actual No.1s', df.at[winner, 'Actual No.1s'] + 1)\n",
    "    elif year > 1989 and year < 1994:\n",
    "        tableRow = h.find_all_next('tr')[4]\n",
    "        winnerText = h.find_next_sibling('p')\n",
    "        for i in range(11):\n",
    "            data = [td.getText() for td in tableRow.findAll('td')]\n",
    "            realName = re.sub(r'\\(.*\\)', '', data[0]).rstrip().lstrip()\n",
    "            if realName not in df.index:\n",
    "                df.loc[realName] = [0,0]\n",
    "            df.set_value(realName, 'Expected No.1s', df.at[realName, 'Expected No.1s'] + int(data[2])/66)\n",
    "            tableRow = tableRow.find_next('tr')\n",
    "        winner = winnerText.getText().split(':')[1].lstrip().rstrip()\n",
    "        df.set_value(winner, 'Actual No.1s', df.at[winner, 'Actual No.1s'] + 1)\n",
    "    elif year > 1994 and year < 2016:\n",
    "        \n",
    "\n",
    "print(df)\n",
    "                \n"
   ]
  },
  {
   "cell_type": "code",
   "execution_count": null,
   "metadata": {
    "collapsed": true
   },
   "outputs": [],
   "source": []
  }
 ],
 "metadata": {
  "kernelspec": {
   "display_name": "Python 3",
   "language": "python",
   "name": "python3"
  },
  "language_info": {
   "codemirror_mode": {
    "name": "ipython",
    "version": 3
   },
   "file_extension": ".py",
   "mimetype": "text/x-python",
   "name": "python",
   "nbconvert_exporter": "python",
   "pygments_lexer": "ipython3",
   "version": "3.6.0"
  }
 },
 "nbformat": 4,
 "nbformat_minor": 2
}
