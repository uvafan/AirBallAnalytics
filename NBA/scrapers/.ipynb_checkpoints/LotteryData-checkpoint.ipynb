{
 "cells": [
  {
   "cell_type": "code",
   "execution_count": 2,
   "metadata": {
    "collapsed": true
   },
   "outputs": [],
   "source": [
    "from urllib.request import urlopen\n",
    "from bs4 import BeautifulSoup\n",
    "import pandas as pd"
   ]
  },
  {
   "cell_type": "code",
   "execution_count": 16,
   "metadata": {
    "collapsed": false
   },
   "outputs": [],
   "source": [
    "#get html\n",
    "url = 'http://www.nba.com/news/all-time-draft-lottery-probabilities'\n",
    "html = urlopen(url)\n",
    "soup = BeautifulSoup(html, 'lxml')"
   ]
  },
  {
   "cell_type": "code",
   "execution_count": 39,
   "metadata": {
    "collapsed": false
   },
   "outputs": [
    {
     "name": "stdout",
     "output_type": "stream",
     "text": [
      "Atlanta\n",
      "Golden State\n",
      "Indiana\n",
      "L.A. Clippers\n",
      "New York\n",
      "Sacramento\n",
      "Seattle\n",
      "Boston\n",
      "Dallas\n",
      "Golden State\n",
      "Indiana\n",
      "New York\n",
      "Philadelphia\n",
      "Phoenix\n",
      "Cleveland\n",
      "L.A. Clippers\n",
      "New Jersey\n",
      "New York\n",
      "Phoenix\n",
      "Sacramento\n",
      "San Antonio\n",
      "Golden State\n",
      "Indiana\n",
      "L.A. Clippers\n",
      "L.A. Clippers\n",
      "New Jersey\n",
      "Philadelphia\n",
      "Phoenix\n",
      "Charlotte\n",
      "Chicago\n",
      "Dallas\n",
      "Indiana\n",
      "L.A. Clippers\n",
      "Miami\n",
      "Sacramento\n",
      "San Antonio\n",
      "Washington\n"
     ]
    }
   ],
   "source": [
    "#initialize df\n",
    "df = pd.DataFrame(columns=['Expected No.1s', 'Actual No.1s'])\n",
    "\n",
    "import re\n",
    "for h in soup.find_all('h3'):\n",
    "    year = 0\n",
    "    try:\n",
    "        year = int(h.getText())\n",
    "    except:\n",
    "        continue\n",
    "    if 1985 <= year and year <= 1989:\n",
    "        teams = h.find_next_sibling('p').find_next_sibling('p').getText().split(',')\n",
    "        for team in teams:\n",
    "            realName = re.sub(r'\\[.*\\]', '', team.replace('(','').replace(')','')).rstrip().lstrip()\n",
    "            print(realName)\n"
   ]
  },
  {
   "cell_type": "code",
   "execution_count": null,
   "metadata": {
    "collapsed": true
   },
   "outputs": [],
   "source": []
  }
 ],
 "metadata": {
  "kernelspec": {
   "display_name": "Python 3",
   "language": "python",
   "name": "python3"
  },
  "language_info": {
   "codemirror_mode": {
    "name": "ipython",
    "version": 3
   },
   "file_extension": ".py",
   "mimetype": "text/x-python",
   "name": "python",
   "nbconvert_exporter": "python",
   "pygments_lexer": "ipython3",
   "version": "3.6.0"
  }
 },
 "nbformat": 4,
 "nbformat_minor": 2
}
