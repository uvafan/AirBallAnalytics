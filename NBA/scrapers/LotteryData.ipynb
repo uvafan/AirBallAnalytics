{
 "cells": [
  {
   "cell_type": "code",
   "execution_count": 2,
   "metadata": {
    "collapsed": true
   },
   "outputs": [],
   "source": [
    "from urllib.request import urlopen\n",
    "from bs4 import BeautifulSoup\n",
    "import pandas as pd"
   ]
  },
  {
   "cell_type": "code",
   "execution_count": 16,
   "metadata": {
    "collapsed": false
   },
   "outputs": [],
   "source": [
    "#get html\n",
    "url = 'http://www.nba.com/news/all-time-draft-lottery-probabilities'\n",
    "html = urlopen(url)\n",
    "soup = BeautifulSoup(html, 'lxml')"
   ]
  },
  {
   "cell_type": "code",
   "execution_count": 45,
   "metadata": {
    "collapsed": false,
    "scrolled": true
   },
   "outputs": [
    {
     "name": "stdout",
     "output_type": "stream",
     "text": [
      "               Expected No.1s  Actual No.1s\n",
      "Atlanta              0.142857           0.0\n",
      "Golden State         0.428571           0.0\n",
      "Indiana              0.539683           0.0\n",
      "L.A. Clippers        0.682540           1.0\n",
      "New York             0.428571           1.0\n",
      "Sacramento           0.396825           1.0\n",
      "Seattle              0.142857           0.0\n",
      "Boston               0.142857           0.0\n",
      "Dallas               0.253968           0.0\n",
      "Philadelphia         0.285714           1.0\n",
      "Phoenix              0.428571           0.0\n",
      "Cleveland            0.142857           0.0\n",
      "New Jersey           0.285714           0.0\n",
      "San Antonio          0.253968           1.0\n",
      "Charlotte            0.111111           0.0\n",
      "Chicago              0.111111           0.0\n",
      "Miami                0.111111           0.0\n",
      "Washington           0.111111           0.0\n"
     ]
    }
   ],
   "source": [
    "#initialize df\n",
    "df = pd.DataFrame(columns=['Expected No.1s', 'Actual No.1s'])\n",
    "\n",
    "import re\n",
    "for h in soup.find_all('h3'):\n",
    "    year = 0\n",
    "    try:\n",
    "        year = int(h.getText())\n",
    "    except:\n",
    "        continue\n",
    "    if 1985 <= year and year <= 1989:\n",
    "        teamList = h.find_next_sibling('p').find_next_sibling('p')\n",
    "        teams = teamList.getText().split(',')\n",
    "        for team in teams:\n",
    "            realName = re.sub(r'\\[.*\\]', '', team.replace('(','').replace(')','')).rstrip().lstrip()\n",
    "            if realName not in df.index:\n",
    "                df.loc[realName] = [0,0]\n",
    "            df.set_value(realName, 'Expected No.1s', df.at[realName, 'Expected No.1s'] + 1/len(teams))\n",
    "        winner = teamList.find_next_sibling('p').getText().split(':')[1].lstrip().rstrip()\n",
    "        df.set_value(winner, 'Actual No.1s', df.at[winner, 'Actual No.1s'] + 1)\n",
    "    else:\n",
    "        continue\n",
    "\n",
    "print(df)\n",
    "                \n"
   ]
  },
  {
   "cell_type": "code",
   "execution_count": null,
   "metadata": {
    "collapsed": true
   },
   "outputs": [],
   "source": []
  }
 ],
 "metadata": {
  "kernelspec": {
   "display_name": "Python 3",
   "language": "python",
   "name": "python3"
  },
  "language_info": {
   "codemirror_mode": {
    "name": "ipython",
    "version": 3
   },
   "file_extension": ".py",
   "mimetype": "text/x-python",
   "name": "python",
   "nbconvert_exporter": "python",
   "pygments_lexer": "ipython3",
   "version": "3.6.0"
  }
 },
 "nbformat": 4,
 "nbformat_minor": 2
}
