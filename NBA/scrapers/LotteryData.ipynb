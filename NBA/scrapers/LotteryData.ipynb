{
 "cells": [
  {
   "cell_type": "code",
   "execution_count": 2,
   "metadata": {
    "collapsed": true
   },
   "outputs": [],
   "source": [
    "from urllib.request import urlopen\n",
    "from bs4 import BeautifulSoup\n",
    "import pandas as pd"
   ]
  },
  {
   "cell_type": "code",
   "execution_count": 16,
   "metadata": {
    "collapsed": false
   },
   "outputs": [],
   "source": [
    "#get html\n",
    "url = 'http://www.nba.com/news/all-time-draft-lottery-probabilities'\n",
    "html = urlopen(url)\n",
    "soup = BeautifulSoup(html, 'lxml')"
   ]
  },
  {
   "cell_type": "code",
   "execution_count": 101,
   "metadata": {
    "collapsed": false,
    "scrolled": true
   },
   "outputs": [
    {
     "name": "stdout",
     "output_type": "stream",
     "text": [
      "30.944\n",
      "31.0\n"
     ]
    }
   ],
   "source": [
    "#initialize df\n",
    "df = pd.DataFrame(columns=['Expected No.1s', 'Actual No.1s'])\n",
    "\n",
    "import re\n",
    "\n",
    "#gather data\n",
    "for h in soup.find_all('h3'):\n",
    "    year = 0\n",
    "    try:\n",
    "        year = int(h.getText())\n",
    "    except:\n",
    "        continue\n",
    "    if 1984 < year and year < 1990:\n",
    "        teamList = h.find_next_sibling('p').find_next_sibling('p')\n",
    "        teams = teamList.getText().split(',')\n",
    "        for team in teams:\n",
    "            realName = re.sub(r'\\[.*\\]', '', team.replace('(','').replace(')','')).rstrip().lstrip()\n",
    "            if realName not in df.index:\n",
    "                df.loc[realName] = [0,0]\n",
    "            df.set_value(realName, 'Expected No.1s', df.at[realName, 'Expected No.1s'] + 1/len(teams))\n",
    "        winner = teamList.find_next_sibling('p').getText().split(':')[1].lstrip().rstrip()\n",
    "        df.set_value(winner, 'Actual No.1s', df.at[winner, 'Actual No.1s'] + 1)\n",
    "    elif year > 1989 and year < 1994:\n",
    "        tableRow = h.find_all_next('tr')[4]\n",
    "        winnerText = h.find_next_sibling('p')\n",
    "        for i in range(11):\n",
    "            data = [td.getText() for td in tableRow.findAll('td')]\n",
    "            realName = re.sub(r'\\(.*\\)', '', data[0]).rstrip().lstrip()\n",
    "            if realName not in df.index:\n",
    "                df.loc[realName] = [0,0]\n",
    "            df.set_value(realName, 'Expected No.1s', df.at[realName, 'Expected No.1s'] + int(data[2])/66)\n",
    "            tableRow = tableRow.find_next('tr')\n",
    "        winner = winnerText.getText().split(':')[1].lstrip().rstrip()\n",
    "        df.set_value(winner, 'Actual No.1s', df.at[winner, 'Actual No.1s'] + 1)\n",
    "    elif year > 1993 and year < 2016:\n",
    "        tableRow = h.find_all_next('tr')[4]\n",
    "        winnerText = h.find_next_sibling('p')\n",
    "        while True:\n",
    "            data = [td.getText() for td in tableRow.findAll('td')]\n",
    "            if len(data) == 1:\n",
    "                break\n",
    "            realName = re.sub(r'\\(.*\\)', '', data[0]).replace('*','').rstrip().lstrip()\n",
    "            if realName not in df.index:\n",
    "                df.loc[realName] = [0,0]\n",
    "            toAdd = float(data[3].lstrip().rstrip().replace('%','')) / 100\n",
    "            df.set_value(realName, 'Expected No.1s', df.at[realName, 'Expected No.1s'] + toAdd)\n",
    "            tableRow = tableRow.find_next('tr')\n",
    "            if tableRow is None:\n",
    "                break\n",
    "            count+=1\n",
    "        while len(winnerText.getText().lstrip()) == 0 or winnerText.getText().lstrip()[0] != '>':\n",
    "            winnerText = winnerText.find_next('p')\n",
    "            if winnerText is None:\n",
    "                break\n",
    "        if winnerText is None: \n",
    "            winner = 'Minnesota'\n",
    "        else:\n",
    "            winner = winnerText.getText().split(':')[1].lstrip().rstrip().replace('gin','ing')\n",
    "        df.set_value(winner, 'Actual No.1s', df.at[winner, 'Actual No.1s'] + 1)\n",
    "\n",
    "print(sum(df['Expected No.1s']))\n",
    "print(sum(df['Actual No.1s']))\n",
    "                \n"
   ]
  },
  {
   "cell_type": "code",
   "execution_count": null,
   "metadata": {
    "collapsed": true
   },
   "outputs": [],
   "source": []
  }
 ],
 "metadata": {
  "kernelspec": {
   "display_name": "Python 3",
   "language": "python",
   "name": "python3"
  },
  "language_info": {
   "codemirror_mode": {
    "name": "ipython",
    "version": 3
   },
   "file_extension": ".py",
   "mimetype": "text/x-python",
   "name": "python",
   "nbconvert_exporter": "python",
   "pygments_lexer": "ipython3",
   "version": "3.6.0"
  }
 },
 "nbformat": 4,
 "nbformat_minor": 2
}
