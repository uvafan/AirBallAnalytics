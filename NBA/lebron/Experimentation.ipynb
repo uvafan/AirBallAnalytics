{
 "cells": [
  {
   "cell_type": "code",
   "execution_count": 2,
   "metadata": {
    "collapsed": false
   },
   "outputs": [
    {
     "name": "stdout",
     "output_type": "stream",
     "text": [
      "2016-17\n"
     ]
    }
   ],
   "source": [
    "from nba_py import constants\n",
    "print(constants.CURRENT_SEASON)"
   ]
  },
  {
   "cell_type": "code",
   "execution_count": 6,
   "metadata": {
    "collapsed": false,
    "scrolled": true
   },
   "outputs": [
    {
     "name": "stdout",
     "output_type": "stream",
     "text": [
      "   PLAYER_ID FIRST_NAME         LAST_NAME JERSEY_NUM     TEAM_ID TEAM_CITY  \\\n",
      "0     202391     Jeremy               Lin       7     1610612751  Brooklyn   \n",
      "1     203112     Quincy               Acy       13    1610612751  Brooklyn   \n",
      "2    1627747      Caris            LeVert       22    1610612751  Brooklyn   \n",
      "3    1626178     Rondae  Hollis-Jefferson       24    1610612751  Brooklyn   \n",
      "4     202704     Reggie           Jackson       1     1610612765   Detroit   \n",
      "5    1627744      Brice           Johnson       13    1610612765   Detroit   \n",
      "6    1627770        Kay            Felder       22    1610612765   Detroit   \n",
      "7     202720        Jon             Leuer       30    1610612765   Detroit   \n",
      "8     203687     Reggie             Hearn       38    1610612765   Detroit   \n",
      "\n",
      "  TEAM_NAME TEAM_ABBREVIATION  \n",
      "0      Nets               BKN  \n",
      "1      Nets               BKN  \n",
      "2      Nets               BKN  \n",
      "3      Nets               BKN  \n",
      "4   Pistons               DET  \n",
      "5   Pistons               DET  \n",
      "6   Pistons               DET  \n",
      "7   Pistons               DET  \n",
      "8   Pistons               DET  \n"
     ]
    }
   ],
   "source": [
    "from nba_py import game\n",
    "boxscore = game.BoxscoreSummary(\"0021700805\")\n",
    "print(boxscore.inactive_players())"
   ]
  },
  {
   "cell_type": "code",
   "execution_count": null,
   "metadata": {
    "collapsed": true
   },
   "outputs": [],
   "source": []
  }
 ],
 "metadata": {
  "kernelspec": {
   "display_name": "Python 3",
   "language": "python",
   "name": "python3"
  },
  "language_info": {
   "codemirror_mode": {
    "name": "ipython",
    "version": 3
   },
   "file_extension": ".py",
   "mimetype": "text/x-python",
   "name": "python",
   "nbconvert_exporter": "python",
   "pygments_lexer": "ipython3",
   "version": "3.6.0"
  }
 },
 "nbformat": 4,
 "nbformat_minor": 2
}
